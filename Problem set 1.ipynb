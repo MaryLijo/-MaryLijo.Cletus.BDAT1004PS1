{
 "cells": [
  {
   "cell_type": "markdown",
   "id": "e7eb8817",
   "metadata": {},
   "source": [
    "#                                        Problem Set1 "
   ]
  },
  {
   "cell_type": "markdown",
   "id": "0f933903",
   "metadata": {},
   "source": [
    "Problem 1"
   ]
  },
  {
   "cell_type": "markdown",
   "id": "b38b6ce0",
   "metadata": {},
   "source": [
    "// Problem no 1: FINDING DATA TYPES\n",
    "    \n",
    " a)5 :      data type is Integer \n",
    " b)5.0:     data type is float \n",
    " c)5>1:     data type is Boolean \n",
    " d)'5':     data type is charechter \n",
    " e)5*2:     data type is Integer data type\n",
    " f)'5'*2:   data type is  charechter\n",
    " g)'5'+'2': data type is charechter\n",
    " h)5/2:     data type is float data type\n",
    " i) 5%2:     data type is Integer data type \n",
    " j){5,2,1}: data type is list     \n",
    " k)5==3:     data type is Boolean Data type  \n",
    " l)3.14:     data type is float data type\n",
    "\n",
    " "
   ]
  },
  {
   "cell_type": "markdown",
   "id": "4bdfdd17",
   "metadata": {},
   "source": [
    "Problem 2"
   ]
  },
  {
   "cell_type": "markdown",
   "id": "762ade51",
   "metadata": {},
   "source": [
    "Problem 2 - Part a"
   ]
  },
  {
   "cell_type": "code",
   "execution_count": 9,
   "id": "4e01c67d",
   "metadata": {},
   "outputs": [
    {
     "name": "stdout",
     "output_type": "stream",
     "text": [
      "Number of letters:34\r\n"
     ]
    }
   ],
   "source": [
    "string Mainstring= \"Supercalifragilisticexpialidocious\";//given string\n",
    "int length=Mainstring.Length;// to find number of letters in above string\n",
    "Console.WriteLine(\"Number of letters:\" + length);"
   ]
  },
  {
   "cell_type": "markdown",
   "id": "a87ce029",
   "metadata": {},
   "source": [
    "Problem 2 - Part b"
   ]
  },
  {
   "cell_type": "code",
   "execution_count": 11,
   "id": "b83e9072",
   "metadata": {},
   "outputs": [
    {
     "name": "stdout",
     "output_type": "stream",
     "text": [
      "True\r\n"
     ]
    }
   ],
   "source": [
    "string substring=\"ice\";\n",
    "\n",
    "bool b=Mainstring.Contains(substring);// to find whether the substring \"ice\" is present in given main string\n",
    "\n",
    "Console.WriteLine(b);"
   ]
  },
  {
   "cell_type": "markdown",
   "id": "928da08d",
   "metadata": {},
   "source": [
    "Problem 2 - Part c"
   ]
  },
  {
   "cell_type": "code",
   "execution_count": 8,
   "id": "bbd756b7",
   "metadata": {},
   "outputs": [
    {
     "name": "stdout",
     "output_type": "stream",
     "text": [
      "Supercalifragilisticexpialidocious  and Bababadalgharaghtakamminarronnkonn are the longest words\r\n"
     ]
    }
   ],
   "source": [
    "int length=Mainstring.Length;\n",
    "string String1= \"Honorificabilitudinitatibus\";\n",
    "string String2= \"Bababadalgharaghtakamminarronnkonn\";\n",
    "int length_s1=String1.Length;\n",
    "int length_s2=String2.Length;\n",
    "//Console.WriteLine(\"Number of letters in string 2:\" + length_s1);\n",
    "//Console.WriteLine(\"Number of letters in string 3:\" + length_s2);\n",
    "\n",
    "if (length >= length_s2)\n",
    "          {  if(length > length_s2)\n",
    "             {Console.WriteLine( Mainstring+\"is the largest\");\n",
    "             }\n",
    "             else \n",
    "             {Console.WriteLine( Mainstring+\"  and \" +String2+\" are the longest words\");\n",
    "             }\n",
    "          }\n",
    "           \n",
    "\n",
    "else \n",
    "  {  \n",
    "           if(length_s1 >= length_s2)\n",
    "             {\n",
    "               if(length_s1 == length_s2)\n",
    "               { Console.WriteLine( String1+\"is the largestor equal  to\"+ String1);\n",
    "               }\n",
    "                else\n",
    "               {\n",
    "                Console.WriteLine( String2+\"is the largest\");\n",
    "               }   \n",
    "               \n",
    "             }      \n",
    "          \n",
    "  } "
   ]
  },
  {
   "cell_type": "markdown",
   "id": "583a8354",
   "metadata": {},
   "source": [
    "Problem 2 - Part d"
   ]
  },
  {
   "cell_type": "code",
   "execution_count": 4,
   "id": "2255841f",
   "metadata": {},
   "outputs": [
    {
     "name": "stdout",
     "output_type": "stream",
     "text": [
      "Bartok\n",
      "Bellini\n",
      "Berlioz\n",
      "Bernstein\n",
      "Brian\n",
      "Buxtehude\n"
     ]
    }
   ],
   "source": [
    "var names = new SortedSet<string>();\n",
    "\n",
    "          names.Add(\"Berlioz\");\n",
    "          names.Add(\"Brian\");\n",
    "          names.Add(\"Bartok\");\n",
    "          names.Add(\"Bellini\");\n",
    "          names.Add(\"Buxtehude\");\n",
    "          names.Add(\"Bernstein\");\n",
    "          foreach (var name in names)\n",
    "          {\n",
    "              \n",
    "               Console.WriteLine(name);\n",
    "               \n",
    "    }\n"
   ]
  },
  {
   "cell_type": "markdown",
   "id": "87517564",
   "metadata": {},
   "source": [
    "Problem 3"
   ]
  },
  {
   "cell_type": "code",
   "execution_count": 11,
   "id": "acb5159b",
   "metadata": {
    "scrolled": true
   },
   "outputs": [
    {
     "name": "stdout",
     "output_type": "stream",
     "text": [
      "1.7320508075688772\r\n"
     ]
    }
   ],
   "source": [
    "\n",
    "  \n",
    "using System; //Visual Studio syntax\n",
    " \n",
    "\n",
    "    public static void triangleArea(int a, int b, int c)\n",
    "\n",
    "    {\n",
    "        double s; double m; double r;\n",
    "\n",
    "        s = (a + b + c) / 2;\n",
    "        r = s * (s - a) * (s - b) * (s - c);\n",
    "        m = Math.Sqrt(r);\n",
    "\n",
    "        Console.WriteLine(m);\n",
    "    }\n",
    "     \n",
    "        triangleArea(2, 2, 2);\n",
    "        \n",
    "  \n",
    "\n",
    "\n",
    "\n",
    "\n",
    "\n",
    "\n",
    "\n",
    "\n",
    "\n",
    "\n",
    "\n"
   ]
  },
  {
   "cell_type": "markdown",
   "id": "010b666e",
   "metadata": {},
   "source": [
    "Problem 4"
   ]
  },
  {
   "cell_type": "code",
   "execution_count": 15,
   "id": "244ad697",
   "metadata": {},
   "outputs": [
    {
     "name": "stdout",
     "output_type": "stream",
     "text": [
      " The Even Numbers are:\n",
      " 42 56 32\n",
      " The odd numbers are\n",
      " 25 47"
     ]
    }
   ],
   "source": [
    "\n",
    "\n",
    "int[] Array = new int[5];        \n",
    "        Array[0] = 25;\n",
    "        Array[1] = 47;\n",
    "        Array[2] = 42;\n",
    "        Array[3] = 56;\n",
    "        Array[4] = 32;\n",
    "\n",
    "int i=0;\n",
    "Console.Write(\" The Even Numbers are:\\n\");\n",
    "for(i = 0; i < Array.Length; i++)\n",
    "{\n",
    "    if (arr[i] % 2 == 0)\n",
    "    {\n",
    "        Console.Write(\" \" + Array[i]);\n",
    "    }\n",
    "}\n",
    "\n",
    "Console.WriteLine(\"\\n The odd numbers are\");\n",
    "\n",
    "for(i = 0; i < Array.Length; i++)\n",
    "{\n",
    "    if (Array[i] % 2 != 0)\n",
    "    {\n",
    "        Console.Write(\" \" + Array[i]);\n",
    "    }\n",
    "}\n",
    "\n",
    "\n",
    "\n",
    "\n",
    "\n",
    "\n",
    "\n",
    "\n",
    "\n",
    "\n",
    "  "
   ]
  },
  {
   "cell_type": "markdown",
   "id": "d9524645",
   "metadata": {},
   "source": [
    "Problem 5"
   ]
  },
  {
   "cell_type": "code",
   "execution_count": 13,
   "id": "45aa2bb5",
   "metadata": {},
   "outputs": [
    {
     "name": "stdout",
     "output_type": "stream",
     "text": [
      "False\n",
      "False\n",
      "False\n"
     ]
    }
   ],
   "source": [
    "\n",
    "\n",
    "using System; //Visual Studio syntax\n",
    " \n",
    "\n",
    "    public static void inside(double x, double y, double x1, double x2, double y1,double y2)\n",
    "\n",
    "    {  if(x>x1 & y>y1)\n",
    "       {    \n",
    "           if(x<x2 & y<y2)\n",
    "           {\n",
    "               Console.WriteLine(\"True\");\n",
    "           }\n",
    "       }\n",
    "       \n",
    "     else\n",
    "     {\n",
    "         Console.WriteLine(\"False\");\n",
    "     }\n",
    "    }\n",
    "     inside(1,1,0,0,2,3);\n",
    "     inside(1,1,0.3,0.5,1.1,0.7);\n",
    "     inside(1,1,0.5,0.2,1.1,2);\n",
    "\n",
    "        "
   ]
  },
  {
   "cell_type": "markdown",
   "id": "709c3a14",
   "metadata": {},
   "source": [
    "Problem 6"
   ]
  },
  {
   "cell_type": "code",
   "execution_count": null,
   "id": "767b77be",
   "metadata": {},
   "outputs": [],
   "source": [
    " \n",
    "x= input(\"enter a word\");\n",
    "vowels=['a','e','i','o','u']\n",
    "w=x.lower();\n",
    "str= \" \";\n",
    "def pig(w):\n",
    "    if(w[0:1]in vowels):\n",
    "            print(w, end='way')\n",
    "            return \" \"\n",
    "    else:\n",
    "            q= w.split(w[0:1])\n",
    "            print(q[1], end=w[0:1]+'ay')\n",
    "            return \" \" \n",
    "print(pig(w))\n",
    "     \n",
    "     \n",
    "     \n",
    "\n",
    "    \n",
    "\n"
   ]
  },
  {
   "cell_type": "markdown",
   "id": "5450f61e",
   "metadata": {},
   "source": [
    "Problem 7"
   ]
  },
  {
   "cell_type": "code",
   "execution_count": null,
   "id": "6aea5d83",
   "metadata": {},
   "outputs": [],
   "source": [
    "\n",
    "Countoftype=0;\n",
    "def bldcount(name):\n",
    "    infile = open(name,'r')\n",
    "    data=infile.read()\n",
    "    words = data.split()\n",
    "    Count_of_A = words.count(\"A\")\n",
    "    \n",
    "Count_of_A = words.count(\"A\")\n",
    "print('There are' ,Count_of_A ,\"patiens of blood type A\")\n",
    "Count_of_B = words.count(\"B\")\n",
    "print('There are' ,Count_of_B ,\"patiens of blood type B\")\n",
    "Count_of_AB = words.count(\"AB\")\n",
    "print('There are' ,Count_of_AB ,\"patiens of blood type AB\")\n",
    "Count_of_O = words.count(\"O\")\n",
    "print('There are' ,Count_of_O ,\"patiens of blood type O\")\n",
    "Count_of_OO = words.count(\"OO\")\n",
    "print('There are' ,Count_of_OO ,\"patiens of blood type OO\")\n",
    "\n",
    "bldcount('bloodtype.txt')\n",
    "\n"
   ]
  },
  {
   "cell_type": "markdown",
   "id": "b25fe37f",
   "metadata": {},
   "source": [
    "Problem 8"
   ]
  },
  {
   "cell_type": "code",
   "execution_count": 11,
   "id": "051dee31",
   "metadata": {},
   "outputs": [
    {
     "name": "stdout",
     "output_type": "stream",
     "text": [
      "103.45157\n",
      "1.241401\n"
     ]
    }
   ],
   "source": [
    "\n",
    "\n",
    "def curconv(countrycode,amount):\n",
    "    dict={}\n",
    "    with open('currency.txt','r') as file:\n",
    "        for i in file:\n",
    "            (key,value,name_of_country)=i.split(\"\\t\")\n",
    "            dict[key]= value\n",
    "        amnt_aftr_conv=amount*float(dict[countrycode]) \n",
    "    \n",
    "        print(amnt_aftr_conv);\n",
    "\n",
    "    \n",
    "curconv('AUD',100)\n",
    "curconv('JPY',100)\n"
   ]
  },
  {
   "cell_type": "markdown",
   "id": "36168c59",
   "metadata": {},
   "source": [
    "Problem 9"
   ]
  },
  {
   "cell_type": "markdown",
   "id": "780b845c",
   "metadata": {},
   "source": [
    " Problem no:9    # Identifying type of error in following\n",
    " \n",
    "    \n",
    "a) Trying to add incompatible variables like 6 +'a'  \n",
    "\n",
    "   Here TypeError will occur because both the operands we are trying to add are of different data types\n",
    "    \n",
    "b)Reffering to the 12 th item of a list with only 10 items will show an IndexError of index out of range.\n",
    "   here the range is 10\n",
    "    \n",
    "c)Using a value that is out of range of a function's input such as math.sqrt(-1.0) will cause valueError or math domain error\n",
    "  import math \n",
    "\n",
    "d)Using an undeclared variable, such as print(x), where x is not defined will cause NameError\n",
    "\n",
    "\n",
    "e) Trying to open a file that does not exist ,such as mistyping the file name or looking in the wrong directory will cause\n",
    "   FileNotFoundError\n",
    "    \n",
    "    "
   ]
  },
  {
   "cell_type": "markdown",
   "id": "d6810622",
   "metadata": {},
   "source": [
    "Problem 10"
   ]
  },
  {
   "cell_type": "code",
   "execution_count": 24,
   "id": "7d685880",
   "metadata": {},
   "outputs": [
    {
     "name": "stdout",
     "output_type": "stream",
     "text": [
      "enter a stringapple\n",
      "[1, 2, 2, 1, 1]\n"
     ]
    }
   ],
   "source": [
    "\n",
    "\n",
    "\n",
    "x= input(\"enter a string\")\n",
    "\n",
    "l=len(x)\n",
    "\n",
    "i=0;\n",
    "j=0;\n",
    "k=0;\n",
    "list1=[];\n",
    "list2=[];\n",
    "lst=[];\n",
    "lst3=[];\n",
    "while i<l:\n",
    "        list1.append(x[i]);\n",
    "        list1.sort();\n",
    "        while k<l:\n",
    "            \n",
    "            for j in list1:\n",
    "                if j not in list2:\n",
    "                    list2.append(j)\n",
    "                 \n",
    "                    z=\",\".join(list2)\n",
    "                    y=z.count(z[k]);\n",
    "                    lst3.append(y);\n",
    "            k+=1;\n",
    "        \n",
    "        c=x.count(x[i]);\n",
    "        lst.append(c);\n",
    "        i+=1;\n",
    "        \n",
    "\n",
    "#y[]=list2         \n",
    "#''.join(list2)\n",
    "#l1=len(y)\n",
    " \n",
    "print(lst) ;                      \n",
    " \n",
    "\n",
    "\n",
    "    \n",
    "    \n",
    "\n",
    "   "
   ]
  }
 ],
 "metadata": {
  "kernelspec": {
   "display_name": "Python 3 (ipykernel)",
   "language": "python",
   "name": "python3"
  },
  "language_info": {
   "codemirror_mode": {
    "name": "ipython",
    "version": 3
   },
   "file_extension": ".py",
   "mimetype": "text/x-python",
   "name": "python",
   "nbconvert_exporter": "python",
   "pygments_lexer": "ipython3",
   "version": "3.9.12"
  }
 },
 "nbformat": 4,
 "nbformat_minor": 5
}
